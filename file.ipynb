{
 "cells": [
  {
   "cell_type": "code",
   "execution_count": 179,
   "id": "872580f7",
   "metadata": {},
   "outputs": [
    {
     "data": {
      "text/plain": [
       "'one \\ntwo \\nthree \\nfour'"
      ]
     },
     "execution_count": 179,
     "metadata": {},
     "output_type": "execute_result"
    }
   ],
   "source": [
    "f = open(\"k.txt\",\"r\")\n",
    "f.read()\n"
   ]
  },
  {
   "cell_type": "code",
   "execution_count": null,
   "id": "3291889d",
   "metadata": {},
   "outputs": [],
   "source": [
    "f=open(\"k.txt\",\"r\")\n",
    "x=int(input(\"\"))   \n",
    "\n",
    "\n",
    "    \n",
    "k=f.readlines()\n",
    "print(k[0:x])\n",
    "    "
   ]
  },
  {
   "cell_type": "code",
   "execution_count": 262,
   "id": "050bec0b",
   "metadata": {},
   "outputs": [
    {
     "name": "stdout",
     "output_type": "stream",
     "text": [
      "1\n",
      "['one \\n']\n"
     ]
    }
   ],
   "source": [
    "f=open(\"k.txt\",\"r\")\n",
    "x=int(input(\"\"))   \n",
    "if x==4:\n",
    "    x=1\n",
    "elif x==1:\n",
    "    x=4\n",
    "elif x==3:\n",
    "    x=2\n",
    "elif x==2:\n",
    "    x=3\n",
    "\n",
    "    \n",
    "k=f.readlines()\n",
    "for i in range(x):\n",
    "    l=k[i:4]\n",
    "print(l)\n",
    "    "
   ]
  },
  {
   "cell_type": "code",
   "execution_count": null,
   "id": "9e54735b",
   "metadata": {},
   "outputs": [],
   "source": [
    "f=open(\"k.txt\",\"r\")\n",
    "x=f.read()\n",
    "l=len(x)\n",
    "print(l-6)\n"
   ]
  },
  {
   "cell_type": "code",
   "execution_count": 257,
   "id": "9b485426",
   "metadata": {},
   "outputs": [
    {
     "name": "stdout",
     "output_type": "stream",
     "text": [
      "5\n",
      "[]\n"
     ]
    }
   ],
   "source": []
  },
  {
   "cell_type": "code",
   "execution_count": null,
   "id": "29bf1df2",
   "metadata": {},
   "outputs": [],
   "source": []
  },
  {
   "cell_type": "code",
   "execution_count": null,
   "id": "d2a648bd",
   "metadata": {},
   "outputs": [],
   "source": []
  }
 ],
 "metadata": {
  "kernelspec": {
   "display_name": "Python 3 (ipykernel)",
   "language": "python",
   "name": "python3"
  },
  "language_info": {
   "codemirror_mode": {
    "name": "ipython",
    "version": 3
   },
   "file_extension": ".py",
   "mimetype": "text/x-python",
   "name": "python",
   "nbconvert_exporter": "python",
   "pygments_lexer": "ipython3",
   "version": "3.9.12"
  }
 },
 "nbformat": 4,
 "nbformat_minor": 5
}
