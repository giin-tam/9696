{
 "cells": [
  {
   "cell_type": "code",
   "execution_count": 13,
   "id": "aee01dfd",
   "metadata": {},
   "outputs": [
    {
     "name": "stdout",
     "output_type": "stream",
     "text": [
      "put number6\n",
      "2\n",
      "4\n",
      "3\n"
     ]
    },
    {
     "data": {
      "text/plain": [
       "'false'"
      ]
     },
     "execution_count": 13,
     "metadata": {},
     "output_type": "execute_result"
    }
   ],
   "source": [
    "def binary_search(A, l, h, k):\n",
    "    if h >= l:\n",
    "        mid = int(l + (h - l)/2)\n",
    "        print(mid)\n",
    "        if A[mid] == k:\n",
    "            return \"true\"\n",
    "        elif A[mid] > k:\n",
    "            return binary_search(A, l, mid-1, k)\n",
    "        else:\n",
    "            return binary_search(A, mid+1, h, k)\n",
    "    else:\n",
    "        return \"false\"\n",
    "\n",
    "A=[1,2,3,5,8]\n",
    "k=int(input(\"put number\"));l=0; h=len(A);\n",
    "binary_search(A, l, h, k)"
   ]
  },
  {
   "cell_type": "code",
   "execution_count": 83,
   "id": "73da4ea2",
   "metadata": {},
   "outputs": [
    {
     "name": "stdout",
     "output_type": "stream",
     "text": [
      "print3\n",
      "print4\n",
      "81\n"
     ]
    }
   ],
   "source": [
    "y= int (input(\"print\"))\n",
    "x=int(input(\"print\"))\n",
    "s=y\n",
    "j= 0\n",
    "list=[]\n",
    "while j< x:\n",
    "    j=j+1\n",
    "    list.append(j)\n",
    "\n",
    "for i in range (len(list)-1):\n",
    "    s=s*y\n",
    "print(s)\n",
    "\n",
    "\n",
    "\n",
    "   "
   ]
  },
  {
   "cell_type": "code",
   "execution_count": 80,
   "id": "dd7eecdd",
   "metadata": {},
   "outputs": [
    {
     "name": "stdout",
     "output_type": "stream",
     "text": [
      "[13, 22, 29, 37, 46, 49, 52, 56, 71]\n"
     ]
    }
   ],
   "source": [
    "l=[29,13,22,37,52,49,46,71,56]\n",
    "for i in range (1,len(l)) :\n",
    "    for j in range (len(l)-1):\n",
    "        if l[j]>l[j+1]:\n",
    "            l[j],l[j+1]=l[j+1],l[j]\n",
    "            \n",
    "print(l)\n",
    "          "
   ]
  },
  {
   "cell_type": "code",
   "execution_count": 82,
   "id": "9c29c6d8",
   "metadata": {},
   "outputs": [
    {
     "name": "stdout",
     "output_type": "stream",
     "text": [
      "[13, 22, 29, 37, 46, 49, 52, 56, 71]\n"
     ]
    }
   ],
   "source": [
    "def mergeSort(myList):\n",
    "    if len(myList) > 1:\n",
    "        mid = len(myList) // 2\n",
    "        left = myList[:mid]\n",
    "        right = myList[mid:]\n",
    "        mergeSort(left)\n",
    "        mergeSort(right)\n",
    "        i = 0\n",
    "        j = 0\n",
    "        \n",
    "        k = 0\n",
    "        \n",
    "        while i < len(left) and j < len(right):\n",
    "            if left[i] < right[j]:\n",
    "                myList[k] = left[i]\n",
    "                i += 1\n",
    "            else:\n",
    "                myList[k] = right[j]\n",
    "                j += 1\n",
    "            k += 1\n",
    "        while i < len(left):\n",
    "            myList[k] = left[i]\n",
    "            i += 1\n",
    "            k += 1\n",
    "\n",
    "        while j < len(right):\n",
    "            myList[k]=right[j]\n",
    "            j += 1\n",
    "            k += 1\n",
    "\n",
    "myList = [29,13,22,37,52,49,46,71,56]\n",
    "mergeSort(myList)\n",
    "print(myList)"
   ]
  },
  {
   "cell_type": "code",
   "execution_count": 157,
   "id": "4bb78b22",
   "metadata": {},
   "outputs": [
    {
     "name": "stdout",
     "output_type": "stream",
     "text": [
      "[29, 13, 22, 37, 52, 49, 46, 71, 56]\n"
     ]
    }
   ],
   "source": [
    "def quick_sort(a, l, h):\n",
    "    if l<=h:\n",
    "        return\n",
    "    p = partition(a, l, h)\n",
    "    quick_sort(a, l, p)\n",
    "    quick_sort(a, p+1, h)\n",
    "def partition(a,l,h):\n",
    "    piv=a[l]\n",
    "    lef=l\n",
    "    for i in range(l+1,h):\n",
    "        if a[i]<=piv:\n",
    "            a[i],a[lef]=a[lef],a[i]\n",
    "            lef=lef+1\n",
    "    piv,a[lef]=a[lef],piv\n",
    "    return(print(lef))\n",
    "a=[29,13,22,37,52,49,46,71,56]\n",
    "quick_sort(a, 0,len(a))\n",
    "print(a)\n"
   ]
  },
  {
   "cell_type": "code",
   "execution_count": null,
   "id": "574d1c56",
   "metadata": {},
   "outputs": [],
   "source": []
  },
  {
   "cell_type": "code",
   "execution_count": null,
   "id": "3aa7f700",
   "metadata": {},
   "outputs": [],
   "source": []
  }
 ],
 "metadata": {
  "kernelspec": {
   "display_name": "Python 3 (ipykernel)",
   "language": "python",
   "name": "python3"
  },
  "language_info": {
   "codemirror_mode": {
    "name": "ipython",
    "version": 3
   },
   "file_extension": ".py",
   "mimetype": "text/x-python",
   "name": "python",
   "nbconvert_exporter": "python",
   "pygments_lexer": "ipython3",
   "version": "3.9.12"
  }
 },
 "nbformat": 4,
 "nbformat_minor": 5
}
