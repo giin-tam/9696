{
 "cells": [
  {
   "cell_type": "code",
   "execution_count": 145,
   "id": "fe715244",
   "metadata": {},
   "outputs": [
    {
     "name": "stdout",
     "output_type": "stream",
     "text": [
      "        name   score  attempts qualify\n",
      "a  Anastasia    12.5         1     yes\n",
      "b       Dima       9         1      no\n",
      "c  Katherine    16.5         2     yes\n",
      "d      James  np.nan         3      no\n",
      "e      Emily       9         2      no\n",
      "f    Michael      20         3     yes\n",
      "g    Matthew    14.5         1     yes\n",
      "h      Laura  np.nan         1      no\n",
      "i      Kevin       8         2      no\n",
      "j      Jonas      19         1     yes\n",
      "EX 1\n",
      "        name score  attempts qualify\n",
      "a  Anastasia  12.5         1     yes\n",
      "b       Dima     9         1      no\n",
      "c  Katherine  16.5         2     yes\n",
      "EX2\n",
      "        name qualify\n",
      "a  Anastasia     yes\n",
      "b       Dima      no\n",
      "c  Katherine     yes\n",
      "d      James      no\n",
      "e      Emily      no\n",
      "f    Michael     yes\n",
      "g    Matthew     yes\n",
      "h      Laura      no\n",
      "i      Kevin      no\n",
      "j      Jonas     yes\n",
      "EX3\n",
      "        name qualify\n",
      "a  Anastasia     yes\n",
      "b       Dima      no\n",
      "c  Katherine     yes\n",
      "d      James      no\n",
      "e      Emily      no\n",
      "f    Michael     yes\n",
      "g    Matthew     yes\n",
      "h      Laura      no\n",
      "i      Kevin      no\n",
      "j      Jonas     yes\n",
      "EX4\n"
     ]
    }
   ],
   "source": [
    "import pandas as pd\n",
    "l= [['Anastasia',12.5,1,\"yes\"], ['Dima',9,1,\"no\"], ['Katherine',16.5,2,\"yes\"], \n",
    "    ['James',\"np.nan\",3,\"no\"], ['Emily',9,2,\"no\"], ['Michael',20,3,\"yes\"], [\"Matthew\",14.5,1,\"yes\"],\n",
    "    ['Laura',\"np.nan\",1,\"no\"], ['Kevin',8,2,\"no\"], ['Jonas',19,1,\"yes\"]]\n",
    "\n",
    "\n",
    "df=pd.DataFrame(l, columns =[\"name\",\"score\",\"attempts\",\"qualify\"],index = ['a','b','c','d','e','f','g','h','i','j'])\n",
    "\n",
    "print(df)\n",
    "\n",
    "\n",
    "print(\"EX3\")\n",
    "print(df.iloc[0:10])\n",
    "print(\"EX4\")\n"
   ]
  },
  {
   "cell_type": "code",
   "execution_count": null,
   "id": "42cc586d",
   "metadata": {},
   "outputs": [],
   "source": [
    "import pandas as pd\n",
    "l= [['Anastasia',12.5,1,\"yes\"], ['Dima',9,1,\"no\"], ['Katherine',16.5,2,\"yes\"], \n",
    "    ['James',\"np.nan\",3,\"no\"], ['Emily',9,2,\"no\"], ['Michael',20,3,\"yes\"], [\"Matthew\",14.5,1,\"yes\"],\n",
    "    ['Laura',\"np.nan\",1,\"no\"], ['Kevin',8,2,\"no\"], ['Jonas',19,1,\"yes\"]]\n",
    "\n",
    "\n",
    "df=pd.DataFrame(l, columns =[\"name\",\"score\",\"attempts\",\"qualify\"],index = ['a','b','c','d','e','f','g','h','i','j'])\n",
    "\n",
    "\n",
    "print(\"EX 1\")\n",
    "print(df.head(3))"
   ]
  },
  {
   "cell_type": "code",
   "execution_count": 33,
   "id": "ca380149",
   "metadata": {},
   "outputs": [
    {
     "name": "stdout",
     "output_type": "stream",
     "text": [
      "pink     20\n",
      "white    15\n",
      "black     6\n",
      "blue     43\n",
      "dtype: int64\n"
     ]
    }
   ],
   "source": [
    "import pandas as pd\n",
    "color=[\"pink\", \"white\", \"black\", \"blue\"]\n",
    "occurence = [20, 15, 6, 43]\n",
    "S=pd.Series(occurence, index=color)\n",
    "print(S)"
   ]
  },
  {
   "cell_type": "code",
   "execution_count": 147,
   "id": "9c6fff06",
   "metadata": {},
   "outputs": [
    {
     "name": "stdout",
     "output_type": "stream",
     "text": [
      "EX2\n",
      "        name qualify\n",
      "a  Anastasia     yes\n",
      "b       Dima      no\n",
      "c  Katherine     yes\n",
      "d      James      no\n",
      "e      Emily      no\n",
      "f    Michael     yes\n",
      "g    Matthew     yes\n",
      "h      Laura      no\n",
      "i      Kevin      no\n",
      "j      Jonas     yes\n"
     ]
    }
   ],
   "source": [
    "import pandas as pd\n",
    "l= [['Anastasia',12.5,1,\"yes\"], ['Dima',9,1,\"no\"], ['Katherine',16.5,2,\"yes\"], \n",
    "    ['James',\"np.nan\",3,\"no\"], ['Emily',9,2,\"no\"], ['Michael',20,3,\"yes\"], [\"Matthew\",14.5,1,\"yes\"],\n",
    "    ['Laura',\"np.nan\",1,\"no\"], ['Kevin',8,2,\"no\"], ['Jonas',19,1,\"yes\"]]\n",
    "\n",
    "\n",
    "df=pd.DataFrame(l, columns =[\"name\",\"score\",\"attempts\",\"qualify\"],index = ['a','b','c','d','e','f','g','h','i','j'])\n",
    "\n",
    "\n",
    "\n",
    "print(\"EX2\")\n",
    "df.drop('score', inplace=True, axis=1)\n",
    "df.drop('attempts',inplace=True ,axis=1)\n",
    "print(df)"
   ]
  },
  {
   "cell_type": "code",
   "execution_count": 153,
   "id": "f38e338b",
   "metadata": {},
   "outputs": [
    {
     "name": "stdout",
     "output_type": "stream",
     "text": [
      "EX3\n",
      "        name   score\n",
      "a  Anastasia    12.5\n",
      "b       Dima       9\n",
      "c  Katherine    16.5\n",
      "d      James  np.nan\n",
      "e      Emily       9\n",
      "f    Michael      20\n",
      "g    Matthew    14.5\n",
      "h      Laura  np.nan\n",
      "i      Kevin       8\n",
      "j      Jonas      19\n"
     ]
    }
   ],
   "source": [
    "import pandas as pd\n",
    "l= [['Anastasia',12.5,1,\"yes\"], ['Dima',9,1,\"no\"], ['Katherine',16.5,2,\"yes\"], \n",
    "    ['James',\"np.nan\",3,\"no\"], ['Emily',9,2,\"no\"], ['Michael',20,3,\"yes\"], [\"Matthew\",14.5,1,\"yes\"],\n",
    "    ['Laura',\"np.nan\",1,\"no\"], ['Kevin',8,2,\"no\"], ['Jonas',19,1,\"yes\"]]\n",
    "\n",
    "print(\"EX3\")\n",
    "df=pd.DataFrame(l, columns =[\"name\",\"score\",\"attempts\",\"qualify\"],index = ['a','b','c','d','e','f','g','h','i','j'])\n",
    "print(df[[\"name\", \"score\"]])\n",
    "\n",
    "\n",
    "\n",
    "\n",
    "\n"
   ]
  },
  {
   "cell_type": "code",
   "execution_count": 167,
   "id": "c56e8e73",
   "metadata": {},
   "outputs": [
    {
     "name": "stdout",
     "output_type": "stream",
     "text": [
      "EX4\n",
      "        name   score  attempts qualify\n",
      "a  Anastasia    12.5         1     yes\n",
      "b       Dima       9         1      no\n",
      "c  Katherine    16.5         2     yes\n",
      "d      James  np.nan         3      no\n",
      "e      Emily       9         2      no\n",
      "f    Michael      20         3     yes\n",
      "g    Matthew    14.5         1     yes\n",
      "h      Laura  np.nan         1      no\n",
      "i      Kevin       8         2      no\n",
      "j      Jonas      19         1     yes\n",
      "k     Suresh    15.5         1     yes\n"
     ]
    }
   ],
   "source": [
    "import pandas as pd\n",
    "l= [['Anastasia',12.5,1,\"yes\"], ['Dima',9,1,\"no\"], ['Katherine',16.5,2,\"yes\"], \n",
    "    ['James',\"np.nan\",3,\"no\"], ['Emily',9,2,\"no\"], ['Michael',20,3,\"yes\"], [\"Matthew\",14.5,1,\"yes\"],\n",
    "    ['Laura',\"np.nan\",1,\"no\"], ['Kevin',8,2,\"no\"], ['Jonas',19,1,\"yes\"]]\n",
    "\n",
    "l.append([\"Suresh\", 15.5,  1,  \"yes\"])\n",
    "df=pd.DataFrame(l, columns =[\"name\",\"score\",\"attempts\",\"qualify\"],index = ['a','b','c','d','e','f','g','h','i','j','k'])\n",
    "print(\"EX4\")\n",
    "\n",
    "print(df)"
   ]
  },
  {
   "cell_type": "code",
   "execution_count": null,
   "id": "e7dabfc8",
   "metadata": {},
   "outputs": [],
   "source": [
    "import pandas as pd\n",
    "l= [['Anastasia',12.5,1,\"yes\"], ['Dima',9,1,\"no\"], ['Katherine',16.5,2,\"yes\"], \n",
    "    ['James',\"np.nan\",3,\"no\"], ['Emily',9,2,\"no\"], ['Michael',20,3,\"yes\"], [\"Matthew\",14.5,1,\"yes\"],\n",
    "    ['Laura',\"np.nan\",1,\"no\"], ['Kevin',8,2,\"no\"], ['Jonas',19,1,\"yes\"]]\n",
    "\n",
    "print(\"EX5\")\n",
    "df=pd.DataFrame(l, columns =[\"name\",\"score\",\"attempts\",\"qualify\"],index = ['a','b','c','d','e','f','g','h','i','j'])\n",
    "df.drop('attempts',inplace=True ,axis=1)\n",
    "print(df)"
   ]
  },
  {
   "cell_type": "code",
   "execution_count": 25,
   "id": "383b847a",
   "metadata": {},
   "outputs": [
    {
     "ename": "IndentationError",
     "evalue": "expected an indented block (3759833366.py, line 14)",
     "output_type": "error",
     "traceback": [
      "\u001b[1;36m  Input \u001b[1;32mIn [25]\u001b[1;36m\u001b[0m\n\u001b[1;33m    print(\"0\")\u001b[0m\n\u001b[1;37m    ^\u001b[0m\n\u001b[1;31mIndentationError\u001b[0m\u001b[1;31m:\u001b[0m expected an indented block\n"
     ]
    }
   ],
   "source": [
    "\n"
   ]
  },
  {
   "cell_type": "code",
   "execution_count": 87,
   "id": "4d8ce081",
   "metadata": {},
   "outputs": [
    {
     "name": "stdout",
     "output_type": "stream",
     "text": [
      "[1, 0, 1, 0, 0, 1, 1, 0, 0, 1]\n",
      "EX6\n",
      "        name   score  attempts qualify  Success\n",
      "a  Anastasia    12.5         1     yes        1\n",
      "b       Dima       9         1      no        0\n",
      "c  Katherine    16.5         2     yes        1\n",
      "d      James  np.nan         3      no        0\n",
      "e      Emily       9         2      no        0\n",
      "f    Michael      20         3     yes        1\n",
      "g    Matthew    14.5         1     yes        1\n",
      "h      Laura  np.nan         1      no        0\n",
      "i      Kevin       8         2      no        0\n",
      "j      Jonas      19         1     yes        1\n"
     ]
    }
   ],
   "source": [
    "import pandas as pd\n",
    "l= [['Anastasia',12.5,1,\"yes\"], ['Dima',9,1,\"no\"], ['Katherine',16.5,2,\"yes\"], \n",
    "    ['James',\"np.nan\",3,\"no\"], ['Emily',9,2,\"no\"], ['Michael',20,3,\"yes\"], [\"Matthew\",14.5,1,\"yes\"],\n",
    "    ['Laura',\"np.nan\",1,\"no\"], ['Kevin',8,2,\"no\"], ['Jonas',19,1,\"yes\"]]\n",
    "la=[]\n",
    "for i in range (len(l)):\n",
    "    p=l[i][1]\n",
    "    if type(p)==float or type(p)==int :\n",
    "        if p<=10:\n",
    "            s=0\n",
    "        else:\n",
    "            s=1\n",
    "    else:\n",
    "        s=0\n",
    "    la.append(s)\n",
    "print(la)\n",
    "print(\"EX6\")\n",
    "df=pd.DataFrame(l, columns =[\"name\",\"score\",\"attempts\",\"qualify\"],index = ['a','b','c','d','e','f','g','h','i','j'])\n",
    "df[\"Success\"]=la\n",
    "print(df)\n",
    "\n",
    "    \n"
   ]
  },
  {
   "cell_type": "code",
   "execution_count": 90,
   "id": "e0b31b4c",
   "metadata": {},
   "outputs": [
    {
     "name": "stdout",
     "output_type": "stream",
     "text": [
      "    Unnamed: 0       name   score  attempts qualify  Success\n",
      "0            0  Anastasia    12.5         1     yes        1\n",
      "1            1       Dima       9         3      no        0\n",
      "2            2  Katherine    16.5         2     yes        1\n",
      "3            3      James  np.nan         3      no        0\n",
      "4            4      Emily       9         2      no        0\n",
      "5            5    Michael      20         3     yes        1\n",
      "6            6    Matthew    14.5         1     yes        1\n",
      "7            7      Laura  np.nan         1      no        0\n",
      "8            8      Kevin       8         2      no        0\n",
      "9            9      Jonas      19         1     yes        1\n",
      "10          10     Suresh    15.5         1     yes        1\n"
     ]
    }
   ],
   "source": [
    "import pandas as pd\n",
    "dict1= {'name': ['Anastasia', 'Dima', 'Katherine', 'James', 'Emily', 'Michael', 'Matthew', 'Laura', 'Kevin', 'Jonas',\"Suresh\"],\n",
    "\n",
    "'score': [12.5, 9, 16.5, \"np.nan\", 9, 20, 14.5, \"np.nan\", 8, 19, 15.5],\n",
    "\n",
    "'attempts': [1, 3, 2, 3, 2, 3, 1, 1, 2, 1,1],\n",
    "\n",
    "'qualify': ['yes', 'no', 'yes', 'no', 'no', 'yes', 'yes', 'no', 'no', 'yes',\"yes\"],'Success':[1, 0, 1, 0, 0, 1, 1, 0, 0, 1,1]\n",
    "       }\n",
    "df=pd.DataFrame(dict1)\n",
    "df.to_csv('k')\n",
    "my_data=pd.read_csv('k')\n",
    "print(my_data)"
   ]
  },
  {
   "cell_type": "code",
   "execution_count": null,
   "id": "513042d2",
   "metadata": {},
   "outputs": [],
   "source": []
  }
 ],
 "metadata": {
  "kernelspec": {
   "display_name": "Python 3 (ipykernel)",
   "language": "python",
   "name": "python3"
  },
  "language_info": {
   "codemirror_mode": {
    "name": "ipython",
    "version": 3
   },
   "file_extension": ".py",
   "mimetype": "text/x-python",
   "name": "python",
   "nbconvert_exporter": "python",
   "pygments_lexer": "ipython3",
   "version": "3.9.12"
  }
 },
 "nbformat": 4,
 "nbformat_minor": 5
}
